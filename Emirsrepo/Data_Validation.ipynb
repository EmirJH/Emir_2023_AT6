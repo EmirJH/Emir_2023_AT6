{
 "cells": [
  {
   "cell_type": "code",
   "execution_count": 1,
   "id": "aaff9a10",
   "metadata": {},
   "outputs": [
    {
     "data": {
      "text/plain": [
       "[1, 2, 3, 4, 5]"
      ]
     },
     "execution_count": 1,
     "metadata": {},
     "output_type": "execute_result"
    }
   ],
   "source": [
    "# Here is a more commented version that actually works:\n",
    "class DataValidate:\n",
    " \n",
    "    def validate_data(self, inputs):\n",
    "        self.valid_inputs = []\n",
    "        for value in inputs:\n",
    "            try:\n",
    "            \n",
    "#Checking if the input value can be an integer then adds it to the list\n",
    "                num = int(value)\n",
    "                if num > 0:\n",
    "                    self.valid_inputs.append(num)\n",
    "                \n",
    "#Ignoring any non-integer values\n",
    "            except ValueError:\n",
    "                pass\n",
    "        return self.valid_inputs\n",
    "\n",
    "#Example of usage\n",
    "DV = DataValidate()\n",
    "inputs = [1,2,\"banana\",3,4,5.555]\n",
    "DV.validate_data(inputs)"
   ]
  }
 ],
 "metadata": {
  "kernelspec": {
   "display_name": "Python 3 (ipykernel)",
   "language": "python",
   "name": "python3"
  },
  "language_info": {
   "codemirror_mode": {
    "name": "ipython",
    "version": 3
   },
   "file_extension": ".py",
   "mimetype": "text/x-python",
   "name": "python",
   "nbconvert_exporter": "python",
   "pygments_lexer": "ipython3",
   "version": "3.9.12"
  }
 },
 "nbformat": 4,
 "nbformat_minor": 5
}
